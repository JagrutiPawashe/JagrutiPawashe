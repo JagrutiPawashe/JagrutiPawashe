{
 "cells": [
  {
   "cell_type": "markdown",
   "metadata": {},
   "source": [
    "# EDA-Exploratory Data Analysis"
   ]
  },
  {
   "cell_type": "raw",
   "metadata": {},
   "source": [
    "Exploratory Data Analysis or EDA , is an important step to be performed in Data Science projects.\n",
    "EDA is generally the process of visualising datasets to find out different patterns in the datasets, analyzing the anomalies behaviour of the datasets and building assumptions or hypothesis based on the understanding of the data"
   ]
  },
  {
   "cell_type": "markdown",
   "metadata": {},
   "source": [
    "# Step1. Importing the libraries"
   ]
  },
  {
   "cell_type": "markdown",
   "metadata": {},
   "source": [
    "We always intialize by importing the important libraries needed for performing EDA"
   ]
  },
  {
   "cell_type": "code",
   "execution_count": 1,
   "metadata": {},
   "outputs": [],
   "source": [
    "import numpy as np\n",
    "import pandas as pd\n",
    "import matplotlib.pyplot as plt\n",
    "import seaborn as sns"
   ]
  },
  {
   "cell_type": "markdown",
   "metadata": {},
   "source": [
    "# Step2. Creating & Reading the data"
   ]
  },
  {
   "cell_type": "code",
   "execution_count": 2,
   "metadata": {},
   "outputs": [],
   "source": [
    "data = pd.read_csv(r'Fish_dataset.csv')"
   ]
  },
  {
   "cell_type": "code",
   "execution_count": 3,
   "metadata": {},
   "outputs": [
    {
     "data": {
      "text/html": [
       "<div>\n",
       "<style scoped>\n",
       "    .dataframe tbody tr th:only-of-type {\n",
       "        vertical-align: middle;\n",
       "    }\n",
       "\n",
       "    .dataframe tbody tr th {\n",
       "        vertical-align: top;\n",
       "    }\n",
       "\n",
       "    .dataframe thead th {\n",
       "        text-align: right;\n",
       "    }\n",
       "</style>\n",
       "<table border=\"1\" class=\"dataframe\">\n",
       "  <thead>\n",
       "    <tr style=\"text-align: right;\">\n",
       "      <th></th>\n",
       "      <th>Species</th>\n",
       "      <th>Weight</th>\n",
       "      <th>Length1</th>\n",
       "      <th>Length2</th>\n",
       "      <th>Length3</th>\n",
       "      <th>Height</th>\n",
       "      <th>Width</th>\n",
       "    </tr>\n",
       "  </thead>\n",
       "  <tbody>\n",
       "    <tr>\n",
       "      <th>0</th>\n",
       "      <td>Bream</td>\n",
       "      <td>242.0</td>\n",
       "      <td>23.2</td>\n",
       "      <td>25.4</td>\n",
       "      <td>30.0</td>\n",
       "      <td>11.5200</td>\n",
       "      <td>4.0200</td>\n",
       "    </tr>\n",
       "    <tr>\n",
       "      <th>1</th>\n",
       "      <td>Bream</td>\n",
       "      <td>290.0</td>\n",
       "      <td>24.0</td>\n",
       "      <td>26.3</td>\n",
       "      <td>31.2</td>\n",
       "      <td>12.4800</td>\n",
       "      <td>4.3056</td>\n",
       "    </tr>\n",
       "    <tr>\n",
       "      <th>2</th>\n",
       "      <td>Bream</td>\n",
       "      <td>340.0</td>\n",
       "      <td>23.9</td>\n",
       "      <td>26.5</td>\n",
       "      <td>31.1</td>\n",
       "      <td>12.3778</td>\n",
       "      <td>4.6961</td>\n",
       "    </tr>\n",
       "    <tr>\n",
       "      <th>3</th>\n",
       "      <td>Bream</td>\n",
       "      <td>363.0</td>\n",
       "      <td>26.3</td>\n",
       "      <td>29.0</td>\n",
       "      <td>33.5</td>\n",
       "      <td>12.7300</td>\n",
       "      <td>4.4555</td>\n",
       "    </tr>\n",
       "    <tr>\n",
       "      <th>4</th>\n",
       "      <td>Bream</td>\n",
       "      <td>430.0</td>\n",
       "      <td>26.5</td>\n",
       "      <td>29.0</td>\n",
       "      <td>34.0</td>\n",
       "      <td>12.4440</td>\n",
       "      <td>5.1340</td>\n",
       "    </tr>\n",
       "  </tbody>\n",
       "</table>\n",
       "</div>"
      ],
      "text/plain": [
       "  Species  Weight  Length1  Length2  Length3   Height   Width\n",
       "0   Bream   242.0     23.2     25.4     30.0  11.5200  4.0200\n",
       "1   Bream   290.0     24.0     26.3     31.2  12.4800  4.3056\n",
       "2   Bream   340.0     23.9     26.5     31.1  12.3778  4.6961\n",
       "3   Bream   363.0     26.3     29.0     33.5  12.7300  4.4555\n",
       "4   Bream   430.0     26.5     29.0     34.0  12.4440  5.1340"
      ]
     },
     "execution_count": 3,
     "metadata": {},
     "output_type": "execute_result"
    }
   ],
   "source": [
    "data.head()"
   ]
  },
  {
   "cell_type": "code",
   "execution_count": 4,
   "metadata": {},
   "outputs": [
    {
     "name": "stdout",
     "output_type": "stream",
     "text": [
      "The shape of the data is : (159, 7)\n"
     ]
    }
   ],
   "source": [
    "print('The shape of the data is :',data.shape)"
   ]
  },
  {
   "cell_type": "raw",
   "metadata": {},
   "source": [
    "The data above observed contains the data related to different species of Fish and how its weight is varying with other parameters when taken into consideration.\n",
    "We will now look for descriptive statistics for more understanding of the data"
   ]
  },
  {
   "cell_type": "markdown",
   "metadata": {},
   "source": [
    "# Step3. Understand the problem statement and the data, try understanding importance of each variable given.\n",
    "# Perform Exploratory Data Analysis- print datatypes, dimension and descriptive statistics."
   ]
  },
  {
   "cell_type": "code",
   "execution_count": 5,
   "metadata": {},
   "outputs": [
    {
     "name": "stdout",
     "output_type": "stream",
     "text": [
      "<class 'pandas.core.frame.DataFrame'>\n",
      "RangeIndex: 159 entries, 0 to 158\n",
      "Data columns (total 7 columns):\n",
      " #   Column   Non-Null Count  Dtype  \n",
      "---  ------   --------------  -----  \n",
      " 0   Species  159 non-null    object \n",
      " 1   Weight   159 non-null    float64\n",
      " 2   Length1  159 non-null    float64\n",
      " 3   Length2  159 non-null    float64\n",
      " 4   Length3  159 non-null    float64\n",
      " 5   Height   159 non-null    float64\n",
      " 6   Width    159 non-null    float64\n",
      "dtypes: float64(6), object(1)\n",
      "memory usage: 8.8+ KB\n"
     ]
    }
   ],
   "source": [
    "# Taking a look at the variable types:\n",
    "\n",
    "data.info()\n"
   ]
  },
  {
   "cell_type": "code",
   "execution_count": 21,
   "metadata": {},
   "outputs": [
    {
     "name": "stdout",
     "output_type": "stream",
     "text": [
      "Species     object\n",
      "Weight     float64\n",
      "Length1    float64\n",
      "Length2    float64\n",
      "Length3    float64\n",
      "Height     float64\n",
      "Width      float64\n",
      "dtype: object\n",
      "(159, 7)\n",
      "       Species       Weight     Length1     Length2     Length3      Height  \\\n",
      "count      159   159.000000  159.000000  159.000000  159.000000  159.000000   \n",
      "unique       7          NaN         NaN         NaN         NaN         NaN   \n",
      "top      Perch          NaN         NaN         NaN         NaN         NaN   \n",
      "freq        56          NaN         NaN         NaN         NaN         NaN   \n",
      "mean       NaN   398.326415   26.247170   28.415723   31.227044    8.970994   \n",
      "std        NaN   357.978317    9.996441   10.716328   11.610246    4.286208   \n",
      "min        NaN     0.000000    7.500000    8.400000    8.800000    1.728400   \n",
      "25%        NaN   120.000000   19.050000   21.000000   23.150000    5.944800   \n",
      "50%        NaN   273.000000   25.200000   27.300000   29.400000    7.786000   \n",
      "75%        NaN   650.000000   32.700000   35.500000   39.650000   12.365900   \n",
      "max        NaN  1650.000000   59.000000   63.400000   68.000000   18.957000   \n",
      "\n",
      "             Width  \n",
      "count   159.000000  \n",
      "unique         NaN  \n",
      "top            NaN  \n",
      "freq           NaN  \n",
      "mean      4.417486  \n",
      "std       1.685804  \n",
      "min       1.047600  \n",
      "25%       3.385650  \n",
      "50%       4.248500  \n",
      "75%       5.584500  \n",
      "max       8.142000  \n"
     ]
    }
   ],
   "source": [
    "# Using the describe we will try and gain more insights of our data:\n",
    "\n",
    "#for datatypes\n",
    "print(data.dtypes)\n",
    "\n",
    "#for dimensions of the given data\n",
    "print(data.shape)\n",
    "\n",
    "#for descriptive statistics of the data \n",
    "print(data.describe(include=\"all\"))\n"
   ]
  },
  {
   "cell_type": "raw",
   "metadata": {},
   "source": [
    "We assign the value 'all' in the include attribute to make sure that categorical features are also in the result \n",
    "\n",
    "For numerical parameters- fields like mean, standard deviation, percentiles, and maximum have been populated. \n",
    "For categorical features- count, unique, top (most frequent value), and corresponding frequency have been populated. \n",
    "This gives us a broad idea of the dataset.\n",
    "\n"
   ]
  },
  {
   "cell_type": "markdown",
   "metadata": {},
   "source": [
    "# Step4. Check if there are missing values. If yes, handle them."
   ]
  },
  {
   "cell_type": "raw",
   "metadata": {},
   "source": [
    "To check if there are missing values present in the dataset.\n",
    "If there are missing values we will impute them with appropriate values\n",
    "Mode in case of categorical feature, and Median or Mean in case of numerical feature)."
   ]
  },
  {
   "cell_type": "code",
   "execution_count": 7,
   "metadata": {},
   "outputs": [
    {
     "data": {
      "text/plain": [
       "Species    0\n",
       "Weight     0\n",
       "Length1    0\n",
       "Length2    0\n",
       "Length3    0\n",
       "Height     0\n",
       "Width      0\n",
       "dtype: int64"
      ]
     },
     "execution_count": 7,
     "metadata": {},
     "output_type": "execute_result"
    }
   ],
   "source": [
    "data.isnull().sum()"
   ]
  },
  {
   "cell_type": "code",
   "execution_count": 8,
   "metadata": {},
   "outputs": [
    {
     "name": "stdout",
     "output_type": "stream",
     "text": [
      "{'Species': array(['Bream', 'Roach', 'Whitefish', 'Parkki', 'Perch', 'Pike', 'Smelt'],\n",
      "      dtype=object)}\n",
      "{'Weight': array([ 242. ,  290. ,  340. ,  363. ,  430. ,  450. ,  500. ,  390. ,\n",
      "        475. ,  600. ,  700. ,  610. ,  650. ,  575. ,  685. ,  620. ,\n",
      "        680. ,  725. ,  720. ,  714. ,  850. , 1000. ,  920. ,  955. ,\n",
      "        925. ,  975. ,  950. ,   40. ,   69. ,   78. ,   87. ,  120. ,\n",
      "          0. ,  110. ,  150. ,  145. ,  160. ,  140. ,  169. ,  161. ,\n",
      "        200. ,  180. ,  272. ,  270. ,  306. ,  540. ,  800. ,   55. ,\n",
      "         60. ,   90. ,  170. ,  273. ,  300. ,    5.9,   32. ,   51.5,\n",
      "         70. ,  100. ,   80. ,   85. ,  115. ,  125. ,  130. ,  135. ,\n",
      "        225. ,  188. ,  197. ,  218. ,  260. ,  265. ,  250. ,  320. ,\n",
      "        514. ,  556. ,  840. ,  690. ,  900. ,  820. , 1015. , 1100. ,\n",
      "        345. ,  456. ,  510. ,  567. ,  770. , 1250. , 1600. , 1550. ,\n",
      "       1650. ,    6.7,    7.5,    7. ,    9.7,    9.8,    8.7,   10. ,\n",
      "          9.9,   12.2,   13.4,   19.7,   19.9])}\n",
      "{'Length1': array([23.2, 24. , 23.9, 26.3, 26.5, 26.8, 27.6, 28.5, 28.4, 28.7, 29.1,\n",
      "       29.5, 29.4, 30.4, 30.9, 31. , 31.3, 31.4, 31.5, 31.8, 31.9, 32. ,\n",
      "       32.7, 32.8, 33.5, 35. , 36.2, 37.4, 38. , 12.9, 16.5, 17.5, 18.2,\n",
      "       18.6, 19. , 19.1, 19.4, 20.4, 20.5, 21. , 21.1, 22. , 22.1, 23.6,\n",
      "       25. , 24.1, 25.6, 33.7, 37.3, 13.5, 14.3, 16.3, 18.4, 19.8, 21.2,\n",
      "       23. ,  7.5, 12.5, 13.8, 15. , 15.7, 16.2, 16.8, 17.2, 17.8, 19.3,\n",
      "       20. , 20.7, 21.5, 22.6, 23.5, 25.2, 25.4, 25.9, 26.9, 27.8, 30.5,\n",
      "       32.5, 34. , 34.5, 34.6, 36.5, 36.6, 36.9, 37. , 37.1, 39. , 39.8,\n",
      "       40.1, 40.2, 41.1, 30. , 31.7, 34.8, 35.5, 36. , 40. , 42. , 43.2,\n",
      "       44.8, 48.3, 52. , 56. , 59. ,  9.3, 10. , 10.1, 10.4, 10.7, 10.8,\n",
      "       11.3, 11.4, 11.5, 11.7, 12.1, 13.2])}\n",
      "{'Length2': array([25.4, 26.3, 26.5, 29. , 29.7, 30. , 30.7, 31. , 31.5, 32. , 33. ,\n",
      "       33.5, 34. , 34.5, 35. , 36. , 37. , 38.5, 39.5, 41. , 14.1, 18.2,\n",
      "       18.8, 19.8, 20. , 20.5, 20.8, 21. , 22. , 22.5, 24. , 23.4, 23.5,\n",
      "       25.2, 26. , 27. , 31.7, 28. , 36.4, 40. , 14.7, 15.5, 17.7, 19. ,\n",
      "       20.7, 21.5, 23. , 25. ,  8.4, 13.7, 15. , 16.2, 17.4, 18. , 18.7,\n",
      "       19.6, 21.3, 22.7, 24.6, 25.6, 27.3, 27.5, 28.7, 32.8, 36.5, 39. ,\n",
      "       42. , 43. , 43.5, 44. , 32.3, 37.3, 38. , 42.5, 45. , 46. , 48. ,\n",
      "       51.7, 56. , 60. , 63.4,  9.8, 10.5, 10.6, 11. , 11.2, 11.3, 11.8,\n",
      "       12. , 12.2, 12.4, 13. , 14.3])}\n",
      "{'Length3': array([30. , 31.2, 31.1, 33.5, 34. , 34.7, 34.5, 35. , 35.1, 36.2, 36.4,\n",
      "       37.3, 37.2, 38.3, 38.5, 38.6, 38.7, 39.5, 39.2, 39.7, 40.6, 40.5,\n",
      "       40.9, 41.5, 41.6, 42.6, 44.1, 44. , 45.3, 45.9, 46.5, 16.2, 20.3,\n",
      "       21.2, 22.2, 22.8, 23.1, 23.7, 24.7, 24.3, 25.3, 25. , 27.2, 26.7,\n",
      "       26.8, 27.9, 29.2, 30.6, 28.7, 29.3, 30.8, 39.6, 43.5, 16.5, 17.4,\n",
      "       19.8, 21.3, 22.4, 23.2, 24.1, 25.8, 28. , 29. ,  8.8, 14.7, 16. ,\n",
      "       17.2, 18.5, 19.2, 19.4, 20.2, 20.8, 21. , 22.5, 23.5, 24. , 24.2,\n",
      "       24.5, 25.5, 26.2, 26.5, 27. , 28.9, 29.4, 30.1, 31.6, 36.5, 39. ,\n",
      "       39.4, 39.3, 41.4, 41.3, 42.3, 42.5, 42.4, 44.6, 45.2, 45.5, 46. ,\n",
      "       46.6, 34.8, 37.8, 38.8, 39.8, 41. , 45.8, 48. , 48.7, 51.2, 55.1,\n",
      "       59.7, 64. , 68. , 10.8, 11.6, 12. , 12.4, 12.6, 13.1, 13.2, 13.4,\n",
      "       13.5, 13.8, 15.2])}\n",
      "{'Height': array([11.52  , 12.48  , 12.3778, 12.73  , 12.444 , 13.6024, 14.1795,\n",
      "       12.67  , 14.0049, 14.2266, 14.2628, 14.3714, 13.7592, 13.9129,\n",
      "       14.9544, 15.438 , 14.8604, 14.938 , 15.633 , 14.4738, 15.1285,\n",
      "       15.9936, 15.5227, 15.4686, 16.2405, 16.36  , 16.3618, 16.517 ,\n",
      "       16.8896, 18.957 , 18.0369, 18.084 , 18.7542, 18.6354, 17.6235,\n",
      "        4.1472,  5.2983,  5.5756,  5.6166,  6.216 ,  6.4752,  6.1677,\n",
      "        6.1146,  5.8045,  6.6339,  7.0334,  6.55  ,  6.4   ,  7.5344,\n",
      "        6.9153,  7.3968,  7.0866,  8.8768,  8.568 ,  9.485 ,  8.3804,\n",
      "        8.1454,  8.778 , 10.744 , 11.7612, 12.354 ,  6.8475,  6.5772,\n",
      "        7.4052,  8.3922,  8.8928,  8.5376,  9.396 ,  9.7364, 10.3458,\n",
      "       11.088 , 11.368 ,  2.112 ,  3.528 ,  3.824 ,  4.5924,  4.588 ,\n",
      "        5.2224,  5.1992,  5.6358,  5.1376,  5.082 ,  5.6925,  5.9175,\n",
      "        6.384 ,  6.11  ,  5.64  ,  5.875 ,  5.5225,  5.856 ,  6.792 ,\n",
      "        5.9532,  5.2185,  6.275 ,  7.293 ,  6.375 ,  6.7334,  6.4395,\n",
      "        6.561 ,  7.168 ,  8.323 ,  7.1672,  7.0516,  7.2828,  7.8204,\n",
      "        7.5852,  7.6156, 10.03  , 10.2565, 11.4884, 10.881 , 10.6091,\n",
      "       10.835 , 10.5717, 11.1366, 12.4313, 11.9286, 11.73  , 12.3808,\n",
      "       11.135 , 12.8002, 11.9328, 12.5125, 12.604 , 12.4888,  5.568 ,\n",
      "        5.7078,  5.9364,  6.2884,  7.29  ,  6.396 ,  7.28  ,  6.825 ,\n",
      "        7.786 ,  6.96  ,  7.792 ,  7.68  ,  8.9262, 10.6863,  9.6   ,\n",
      "       10.812 ,  1.7388,  1.972 ,  1.7284,  2.196 ,  2.0832,  1.9782,\n",
      "        2.2139,  2.2044,  2.0904,  2.43  ,  2.277 ,  2.8728,  2.9322])}\n",
      "{'Width': array([4.02  , 4.3056, 4.6961, 4.4555, 5.134 , 4.9274, 5.2785, 4.69  ,\n",
      "       4.8438, 4.9594, 5.1042, 4.8146, 4.368 , 5.0728, 5.1708, 5.58  ,\n",
      "       5.2854, 5.1975, 5.1338, 5.7276, 5.5695, 5.3704, 5.2801, 6.1306,\n",
      "       5.589 , 6.0532, 6.09  , 5.8515, 6.1984, 6.603 , 6.3063, 6.292 ,\n",
      "       6.7497, 6.7473, 6.3705, 2.268 , 2.8217, 2.9044, 3.1746, 3.5742,\n",
      "       3.3516, 3.3957, 3.2943, 3.7544, 3.5478, 3.8203, 3.325 , 3.8   ,\n",
      "       3.8352, 3.6312, 4.1272, 3.906 , 4.4968, 4.7736, 5.355 , 4.2476,\n",
      "       4.2485, 4.6816, 6.562 , 6.5736, 6.525 , 2.3265, 2.3142, 2.673 ,\n",
      "       2.9181, 3.2928, 3.2944, 3.4104, 3.1571, 3.6636, 4.144 , 4.234 ,\n",
      "       1.408 , 1.9992, 2.432 , 2.6316, 2.9415, 3.3216, 3.1234, 3.0502,\n",
      "       3.0368, 2.772 , 3.555 , 3.3075, 3.6675, 3.534 , 3.4075, 3.525 ,\n",
      "       3.995 , 3.624 , 3.63  , 3.626 , 3.725 , 3.723 , 3.825 , 4.1658,\n",
      "       3.6835, 4.239 , 5.1373, 4.335 , 4.5662, 4.2042, 4.6354, 4.7716,\n",
      "       6.018 , 6.3875, 7.7957, 6.864 , 6.7408, 6.2646, 6.3666, 7.4934,\n",
      "       6.003 , 7.3514, 7.1064, 7.225 , 7.4624, 6.63  , 6.8684, 7.2772,\n",
      "       7.4165, 8.142 , 7.5958, 3.3756, 4.158 , 4.3844, 4.0198, 4.5765,\n",
      "       3.977 , 4.3225, 4.459 , 5.1296, 4.896 , 4.87  , 5.376 , 6.1712,\n",
      "       6.9849, 6.144 , 7.48  , 1.0476, 1.16  , 1.1484, 1.38  , 1.2772,\n",
      "       1.2852, 1.2838, 1.1659, 1.3936, 1.269 , 1.2558, 2.0672, 1.8792])}\n"
     ]
    }
   ],
   "source": [
    "for i in data.columns:\n",
    "    print({i:data[i].unique()})\n",
    "    \n",
    "#To check if there are any special characters in place of values"
   ]
  },
  {
   "cell_type": "raw",
   "metadata": {},
   "source": [
    "From the above observations we can observe that there are no missing values or unique value in the data.\n",
    "So,we won't eliminate or treat any missing values"
   ]
  },
  {
   "cell_type": "markdown",
   "metadata": {},
   "source": [
    "# Step5. To visualize the given data into graphical format"
   ]
  },
  {
   "cell_type": "code",
   "execution_count": 9,
   "metadata": {},
   "outputs": [],
   "source": [
    "import warnings\n",
    "warnings.filterwarnings(\"ignore\")"
   ]
  },
  {
   "cell_type": "markdown",
   "metadata": {},
   "source": [
    "Different types of graphical plots are used to visualize the data\n",
    "\n",
    "1. Scatter plots are useful in visualizing the relationship between two continuous numerical variables.\n",
    "2. Line plot is useful to visualize a continous variable over the period of time.\n",
    "3. Histograms are useful to visualize the frequency distribution of a single continuous variable.\n",
    "4. Countplot are useful to visualize the frequency distribution of a single discrete/categorical variable.\n",
    "5. Bar graphs is useful to visualize the relationship between one categorical and one numerical variable.\n",
    "6. Boxplots are useful to visualize the distribution of single continous variable but more widely used to detect the ouliers in the variable.\n",
    "7. Pie charts are useful to visualize the % distriubtion of a single categorical variable\n"
   ]
  },
  {
   "cell_type": "markdown",
   "metadata": {},
   "source": [
    "## i. To find the count of the species we will plot a countplot of the categorical variable-'Species'."
   ]
  },
  {
   "cell_type": "code",
   "execution_count": 10,
   "metadata": {},
   "outputs": [
    {
     "name": "stdout",
     "output_type": "stream",
     "text": [
      "Perch        56\n",
      "Bream        35\n",
      "Roach        20\n",
      "Pike         17\n",
      "Smelt        14\n",
      "Parkki       11\n",
      "Whitefish     6\n",
      "Name: Species, dtype: int64\n"
     ]
    }
   ],
   "source": [
    "#Count of the Species\n",
    "\n",
    "species_count=data['Species'].value_counts()\n",
    "print(species_count)"
   ]
  },
  {
   "cell_type": "code",
   "execution_count": 11,
   "metadata": {},
   "outputs": [
    {
     "data": {
      "text/plain": [
       "(array([0, 1, 2, 3, 4, 5, 6]),\n",
       " [Text(0, 0, 'Bream'),\n",
       "  Text(1, 0, 'Roach'),\n",
       "  Text(2, 0, 'Whitefish'),\n",
       "  Text(3, 0, 'Parkki'),\n",
       "  Text(4, 0, 'Perch'),\n",
       "  Text(5, 0, 'Pike'),\n",
       "  Text(6, 0, 'Smelt')])"
      ]
     },
     "execution_count": 11,
     "metadata": {},
     "output_type": "execute_result"
    },
    {
     "data": {
      "image/png": "[encoded data removed]",
      "text/plain": [
       "<Figure size 432x288 with 1 Axes>"
      ]
     },
     "metadata": {
      "needs_background": "light"
     },
     "output_type": "display_data"
    }
   ],
   "source": [
    "#countplot are useful to visualize the frequency distribution of a single discrete/categorical variable\n",
    "\n",
    "sns.countplot(x='Species',data=data,palette=\"Set1\")\n",
    "\n",
    "#Rotate x-labels\n",
    "plt.xticks(rotation=45)"
   ]
  },
  {
   "cell_type": "markdown",
   "metadata": {},
   "source": [
    "From the above observations it can be observed that the Perch species of fish show more count value."
   ]
  },
  {
   "cell_type": "markdown",
   "metadata": {},
   "source": [
    "## ii. To find out the outliers(anomlies) in the given data boxplot is used."
   ]
  },
  {
   "cell_type": "raw",
   "metadata": {},
   "source": [
    "Ouliers are the anomalies present in the data i.e. value which is far away from the clustered values"
   ]
  },
  {
   "cell_type": "code",
   "execution_count": 12,
   "metadata": {},
   "outputs": [
    {
     "data": {
      "text/plain": [
       "<AxesSubplot:>"
      ]
     },
     "execution_count": 12,
     "metadata": {},
     "output_type": "execute_result"
    },
    {
     "data": {
      "image/png": "[encoded data removed]",
      "text/plain": [
       "<Figure size 432x288 with 1 Axes>"
      ]
     },
     "metadata": {
      "needs_background": "light"
     },
     "output_type": "display_data"
    }
   ],
   "source": [
    "data.boxplot()"
   ]
  },
  {
   "cell_type": "raw",
   "metadata": {},
   "source": [
    "The middle portion represents the inter-quartile range (IQR).\n",
    "The horizontal line in the middle represents the median of the data.\n",
    "The hollow circles near the tails represent outliers in the data.\n",
    "Outliers should be removed/treated or used in the data will be dependent on the logical validity of the values."
   ]
  },
  {
   "cell_type": "markdown",
   "metadata": {},
   "source": [
    "## iii. For finding out the normality of the variables Distributionplot(distplot) is taken into consideration."
   ]
  },
  {
   "cell_type": "code",
   "execution_count": 13,
   "metadata": {},
   "outputs": [
    {
     "data": {
      "text/plain": [
       "<AxesSubplot:xlabel='Weight', ylabel='Density'>"
      ]
     },
     "execution_count": 13,
     "metadata": {},
     "output_type": "execute_result"
    },
    {
     "data": {
      "image/png": "[encoded data removed]",
      "text/plain": [
       "<Figure size 432x288 with 1 Axes>"
      ]
     },
     "metadata": {
      "needs_background": "light"
     },
     "output_type": "display_data"
    }
   ],
   "source": [
    "#Distribution plot\n",
    "sns.distplot(data.Weight)"
   ]
  },
  {
   "cell_type": "code",
   "execution_count": 14,
   "metadata": {},
   "outputs": [
    {
     "data": {
      "text/plain": [
       "<AxesSubplot:xlabel='Length1', ylabel='Density'>"
      ]
     },
     "execution_count": 14,
     "metadata": {},
     "output_type": "execute_result"
    },
    {
     "data": {
      "image/png": "[encoded data removed]",
      "text/plain": [
       "<Figure size 432x288 with 1 Axes>"
      ]
     },
     "metadata": {
      "needs_background": "light"
     },
     "output_type": "display_data"
    }
   ],
   "source": [
    "#Distribution plot\n",
    "sns.distplot(data.Length1)"
   ]
  },
  {
   "cell_type": "code",
   "execution_count": 15,
   "metadata": {},
   "outputs": [
    {
     "data": {
      "text/plain": [
       "<AxesSubplot:xlabel='Length2', ylabel='Density'>"
      ]
     },
     "execution_count": 15,
     "metadata": {},
     "output_type": "execute_result"
    },
    {
     "data": {
      "image/png": "[encoded data removed]",
      "text/plain": [
       "<Figure size 432x288 with 1 Axes>"
      ]
     },
     "metadata": {
      "needs_background": "light"
     },
     "output_type": "display_data"
    }
   ],
   "source": [
    "#Distribution plot\n",
    "sns.distplot(data.Length2)"
   ]
  },
  {
   "cell_type": "code",
   "execution_count": 16,
   "metadata": {},
   "outputs": [
    {
     "data": {
      "text/plain": [
       "<AxesSubplot:xlabel='Length3', ylabel='Density'>"
      ]
     },
     "execution_count": 16,
     "metadata": {},
     "output_type": "execute_result"
    },
    {
     "data": {
      "image/png": "[encoded data removed]",
      "text/plain": [
       "<Figure size 432x288 with 1 Axes>"
      ]
     },
     "metadata": {
      "needs_background": "light"
     },
     "output_type": "display_data"
    }
   ],
   "source": [
    "#Distribution plot\n",
    "sns.distplot(data.Length3)"
   ]
  },
  {
   "cell_type": "code",
   "execution_count": 17,
   "metadata": {},
   "outputs": [
    {
     "data": {
      "text/plain": [
       "<AxesSubplot:xlabel='Height', ylabel='Density'>"
      ]
     },
     "execution_count": 17,
     "metadata": {},
     "output_type": "execute_result"
    },
    {
     "data": {
      "image/png": "[encoded data removed]",
      "text/plain": [
       "<Figure size 432x288 with 1 Axes>"
      ]
     },
     "metadata": {
      "needs_background": "light"
     },
     "output_type": "display_data"
    }
   ],
   "source": [
    "#Distribution plot\n",
    "sns.distplot(data.Height)"
   ]
  },
  {
   "cell_type": "code",
   "execution_count": 18,
   "metadata": {},
   "outputs": [
    {
     "data": {
      "text/plain": [
       "<AxesSubplot:xlabel='Width', ylabel='Density'>"
      ]
     },
     "execution_count": 18,
     "metadata": {},
     "output_type": "execute_result"
    },
    {
     "data": {
      "image/png": "[encoded data removed]",
      "text/plain": [
       "<Figure size 432x288 with 1 Axes>"
      ]
     },
     "metadata": {
      "needs_background": "light"
     },
     "output_type": "display_data"
    }
   ],
   "source": [
    "#Distribution plot\n",
    "sns.distplot(data.Width)"
   ]
  },
  {
   "cell_type": "markdown",
   "metadata": {},
   "source": [
    "Distribution plot shows how well the values are distributed.\n",
    "1. If the values are perfectly distributed than a bell shaped normalized curve will be formed\n",
    "2. If the values are showing skewness towards the left or right then the data consists of ouliers"
   ]
  },
  {
   "cell_type": "markdown",
   "metadata": {},
   "source": [
    "## iv. For finding the relation between the variables"
   ]
  },
  {
   "cell_type": "code",
   "execution_count": 19,
   "metadata": {},
   "outputs": [
    {
     "data": {
      "image/png": "[encoded data removed]",
      "text/plain": [
       "<Figure size 432x288 with 2 Axes>"
      ]
     },
     "metadata": {
      "needs_background": "light"
     },
     "output_type": "display_data"
    }
   ],
   "source": [
    "corr = data.corr()\n",
    "sns.heatmap(corr, annot=True, square=True)\n",
    "plt.yticks(rotation=0)\n",
    "plt.show()"
   ]
  },
  {
   "cell_type": "markdown",
   "metadata": {},
   "source": [
    "The heatmap shows that the variables of the data and their correlation. "
   ]
  },
  {
   "cell_type": "code",
   "execution_count": null,
   "metadata": {},
   "outputs": [],
   "source": []
  }
 ],
 "metadata": {
  "kernelspec": {
   "display_name": "Python 3",
   "language": "python",
   "name": "python3"
  },
  "language_info": {
   "codemirror_mode": {
    "name": "ipython",
    "version": 3
   },
   "file_extension": ".py",
   "mimetype": "text/x-python",
   "name": "python",
   "nbconvert_exporter": "python",
   "pygments_lexer": "ipython3",
   "version": "3.7.6"
  }
 },
 "nbformat": 4,
 "nbformat_minor": 4
}
